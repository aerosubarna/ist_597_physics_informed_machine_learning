{
 "cells": [
  {
   "cell_type": "code",
   "execution_count": 13,
   "metadata": {},
   "outputs": [],
   "source": [
    "import numpy as np"
   ]
  },
  {
   "cell_type": "code",
   "execution_count": 14,
   "metadata": {},
   "outputs": [],
   "source": [
    "def jacobi(A, b, tolerance=1e-10):\n",
    "\n",
    "    # find the shape of matrix A\n",
    "    m, n = np.shape(A)\n",
    "\n",
    "    # check if A is a square matrix\n",
    "    if m != n:\n",
    "        raise ValueError('Matrix A must be square')\n",
    "    \n",
    "    # check if A is diagonally dominant\n",
    "    for i in range(n):\n",
    "        sum_non_diag = 0\n",
    "        for j in range(n):\n",
    "            if i != j:\n",
    "                sum_non_diag += abs(A[i,j])\n",
    "        if sum_non_diag > abs(A[i,i]):\n",
    "            raise ValueError('Matrix A must be diagonally dominant')\n",
    "\n",
    "    # initial guess\n",
    "    x = np.zeros(n)\n",
    "\n",
    "    # new guess\n",
    "    x_new = np.zeros(n)\n",
    "\n",
    "    # initial error (set to large value to ensure loop runs at least once)\n",
    "    error = np.inf\n",
    "\n",
    "    # loop until error is less than tolerance\n",
    "    while error > tolerance:\n",
    "\n",
    "        for i in range(n):\n",
    "            summation_term = 0\n",
    "            for j in range(n):\n",
    "                if i != j:\n",
    "                    summation_term += A[i,j]*x[j]\n",
    "            x_new[i] = (b[i] - summation_term)/A[i,i]\n",
    "\n",
    "        # check for convergence\n",
    "        error = abs(x - x_new).max()\n",
    "        if error < tolerance:\n",
    "            return x_new\n",
    "        \n",
    "        # update x\n",
    "        x = np.copy(x_new)"
   ]
  },
  {
   "cell_type": "code",
   "execution_count": 15,
   "metadata": {},
   "outputs": [],
   "source": [
    "def gauss_siedel(A, b, tolerance=1e-10):\n",
    "\n",
    "    # find the shape of matrix A\n",
    "    m, n = np.shape(A)\n",
    "\n",
    "    # check if A is a square matrix\n",
    "    if m != n:\n",
    "        raise ValueError('Matrix A must be square')\n",
    "    \n",
    "    # check if A is diagonally dominant\n",
    "    for i in range(m):\n",
    "        sum_non_diag = 0\n",
    "        for j in range(n):\n",
    "            if i != j:\n",
    "                sum_non_diag += abs(A[i,j])\n",
    "        if sum_non_diag > abs(A[i,i]):\n",
    "            # can implement a check if A is symmetric positive definite\n",
    "            # because then Gauss-Seidel is guaranteed to converge if A is SPD\n",
    "            # however, Jacobi is not guaranteed to converge if A is SPD\n",
    "            raise ValueError('Matrix A must be diagonally dominant')\n",
    "\n",
    "    # initial guess\n",
    "    x = np.zeros(n)\n",
    "\n",
    "    # initial error (set to large value to ensure loop runs at least once)\n",
    "    error = np.inf\n",
    "\n",
    "    # loop until error is less than tolerance\n",
    "    while error > tolerance:\n",
    "\n",
    "        x_old = np.copy(x) # to check for convergence\n",
    "\n",
    "        for i in range(n):\n",
    "            summation_term = 0\n",
    "            for j in range(n):\n",
    "                if i != j:\n",
    "                    summation_term += A[i,j]*x[j]\n",
    "            x[i] = (b[i] - summation_term)/A[i,i]\n",
    "\n",
    "        # check for convergence\n",
    "        error = abs(x - x_old).max()\n",
    "        if error < tolerance:\n",
    "            return x"
   ]
  },
  {
   "cell_type": "code",
   "execution_count": 16,
   "metadata": {},
   "outputs": [],
   "source": [
    "def cholesky(A, b):\n",
    "\n",
    "   # find the shape of matrix A \n",
    "    m, n = np.shape(A)\n",
    "\n",
    "    # check if A is a square matrix\n",
    "    if m != n:\n",
    "        raise ValueError('Matrix A must be square')\n",
    "    \n",
    "    # check if A is symmetric positive definite\n",
    "        # will implement this later\n",
    "\n",
    "    # initialize L\n",
    "    L = np.zeros((n,n))\n",
    "\n",
    "    # find the Cholesky decomposition\n",
    "    for i in range(n):\n",
    "        for j in range(i+1):\n",
    "            if i == j:\n",
    "                summation_term = 0\n",
    "                for k in range(i):\n",
    "                    summation_term += L[i,k]**2\n",
    "                L[i,i] = np.sqrt(A[i,i] - summation_term)\n",
    "            else:\n",
    "                summation_term = 0\n",
    "                for k in range(j):\n",
    "                    summation_term += L[j,k]*L[i,k]\n",
    "                L[i,j] = (A[i,j] - summation_term)/L[j,j]\n",
    "    \n",
    "    # now solving for x\n",
    "        # Ax = b; LL'x = b\n",
    "        # Let y = L'x; Ly = b; L'x = y\n",
    "\n",
    "    # solving Ly = b (using forward substitution)\n",
    "    y = np.zeros(n)\n",
    "    for i in range(n):\n",
    "        summation_term = 0\n",
    "        for j in range(i):\n",
    "            summation_term += L[i,j]*y[j]\n",
    "        y[i] = (b[i] - summation_term)/L[i,i]\n",
    "\n",
    "    # solving L'x = y (using backward substitution)\n",
    "    x = np.zeros(n)\n",
    "    for i in range(n-1, -1, -1):\n",
    "        summation_term = 0\n",
    "        for j in range(i+1, n):\n",
    "            summation_term += L[j,i]*x[j]\n",
    "        x[i] = (y[i] - summation_term)/L[i,i]\n",
    "\n",
    "    return x"
   ]
  },
  {
   "cell_type": "code",
   "execution_count": 17,
   "metadata": {},
   "outputs": [],
   "source": [
    "# diagonally dominant and symmetric positive definite matrix\n",
    "A = np.array([[4, -1, 0], [-1, 4, -1], [0, -1, 4]])\n",
    "    \n",
    "b = np.array([1, 2, 3])"
   ]
  },
  {
   "cell_type": "code",
   "execution_count": 18,
   "metadata": {},
   "outputs": [
    {
     "name": "stdout",
     "output_type": "stream",
     "text": [
      "[0.46428571 0.85714286 0.96428571]\n"
     ]
    }
   ],
   "source": [
    "result_numpy = np.linalg.solve(A,b)\n",
    "print(result_numpy)"
   ]
  },
  {
   "cell_type": "code",
   "execution_count": 19,
   "metadata": {},
   "outputs": [
    {
     "name": "stdout",
     "output_type": "stream",
     "text": [
      "[0.46428571 0.85714286 0.96428571]\n"
     ]
    }
   ],
   "source": [
    "result_cholesky = cholesky(A,b)\n",
    "print(result_cholesky)"
   ]
  },
  {
   "cell_type": "code",
   "execution_count": 20,
   "metadata": {},
   "outputs": [
    {
     "name": "stdout",
     "output_type": "stream",
     "text": [
      "[0.46428571 0.85714286 0.96428571]\n"
     ]
    }
   ],
   "source": [
    "result_jacobi = jacobi(A,b)\n",
    "print(result_jacobi)"
   ]
  },
  {
   "cell_type": "code",
   "execution_count": 21,
   "metadata": {},
   "outputs": [
    {
     "name": "stdout",
     "output_type": "stream",
     "text": [
      "[0.46428571 0.85714286 0.96428571]\n"
     ]
    }
   ],
   "source": [
    "result_gauss_siedel = gauss_siedel(A,b)\n",
    "print(result_gauss_siedel)"
   ]
  },
  {
   "cell_type": "code",
   "execution_count": null,
   "metadata": {},
   "outputs": [],
   "source": []
  }
 ],
 "metadata": {
  "kernelspec": {
   "display_name": "Python 3",
   "language": "python",
   "name": "python3"
  },
  "language_info": {
   "codemirror_mode": {
    "name": "ipython",
    "version": 3
   },
   "file_extension": ".py",
   "mimetype": "text/x-python",
   "name": "python",
   "nbconvert_exporter": "python",
   "pygments_lexer": "ipython3",
   "version": "3.10.12"
  }
 },
 "nbformat": 4,
 "nbformat_minor": 2
}
